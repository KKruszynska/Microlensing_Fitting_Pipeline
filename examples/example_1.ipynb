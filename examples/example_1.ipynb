{
 "cells": [
  {
   "cell_type": "markdown",
   "id": "220865fc-bc97-4f02-bdd6-dc2472f6f7b9",
   "metadata": {},
   "source": [
    "## Imports"
   ]
  },
  {
   "cell_type": "code",
   "execution_count": 1,
   "id": "c8650f01-db81-4906-bb07-4cefdc106f44",
   "metadata": {},
   "outputs": [],
   "source": [
    "import pandas as pd\n",
    "import numpy as np\n",
    "import json\n",
    "\n",
    "import os\n",
    "import glob, os\n",
    "\n",
    "from MFPipeline.controller.controller import Controller"
   ]
  },
  {
   "cell_type": "markdown",
   "id": "c73dd05f-9914-48fa-90d3-e30b4206c0c5",
   "metadata": {},
   "source": [
    "## Create analyst configs"
   ]
  },
  {
   "cell_type": "code",
   "execution_count": 2,
   "id": "7eb1ae2e-be37-4a68-b73a-7a3de9ada5b8",
   "metadata": {},
   "outputs": [],
   "source": [
    "event_list = [\"Gaia24amo\", \"Gaia24cbz\", \"AT2024kwu\"]\n",
    "\n",
    "coordinates = {\n",
    "    \"Gaia24amo\": { \n",
    "        \"ra\": 249.14892083,\n",
    "        \"dec\": -53.74991944,\n",
    "    },\n",
    "    \"Gaia24cbz\": {\n",
    "        \"ra\": 251.87178,\n",
    "        \"dec\": -47.20051,\n",
    "    },\n",
    "    \"AT2024kwu\": {\n",
    "        \"ra\": 102.93358333,\n",
    "        \"dec\": 44.352166666,\n",
    "    },\n",
    "}"
   ]
  },
  {
   "cell_type": "code",
   "execution_count": 4,
   "id": "1f0a2f6b-24f3-42fd-b51c-b14690ccde13",
   "metadata": {},
   "outputs": [
    {
     "name": "stdout",
     "output_type": "stream",
     "text": [
      "/home/katarzyna/Documents/Microlensing_Fitting_Pipeline/Microlensing_Fitting_Pipeline/examples\n"
     ]
    }
   ],
   "source": [
    "print(os.getcwd())\n",
    "path_lightcurves = \"./light_curves/\"\n",
    "os.chdir(path_lightcurves)"
   ]
  },
  {
   "cell_type": "code",
   "execution_count": 5,
   "id": "f167463c-ae22-437d-8de0-4ff1c26f4410",
   "metadata": {},
   "outputs": [
    {
     "name": "stdout",
     "output_type": "stream",
     "text": [
      "/home/katarzyna/Documents/Microlensing_Fitting_Pipeline/Microlensing_Fitting_Pipeline/examples/light_curves\n"
     ]
    }
   ],
   "source": [
    "print(os.getcwd())"
   ]
  },
  {
   "cell_type": "code",
   "execution_count": 6,
   "id": "3c1786dd-a35b-4b95-b2b3-38bea068f574",
   "metadata": {},
   "outputs": [],
   "source": [
    "analyst_jsons = {}\n",
    "\n",
    "for event in event_list:\n",
    "    dictionary = {}\n",
    "    dictionary[\"event_name\"] = event\n",
    "    dictionary[\"ra\"], dictionary[\"dec\"] = \"%f\"%coordinates[event][\"ra\"], \"%f\"%coordinates[event][\"dec\"]\n",
    "    dictionary[\"lc_analyst\"] = {\n",
    "        \"n_max\": 10,\n",
    "    }\n",
    "    dictionary[\"fit_analyst\"] = {}\n",
    "    dictionary[\"fit_analyst\"][\"fitting_package\"] = \"pyLIMA\"\n",
    "\n",
    "    light_curves = []\n",
    "    for file in glob.glob(\"*%s*.dat\" % event):\n",
    "        light_curve = np.genfromtxt(file, usecols=(0, 1, 2), unpack=True)\n",
    "        light_curve = light_curve.T\n",
    "\n",
    "        survey = \"\"\n",
    "        band = \"\"\n",
    "        \n",
    "        if \"GSA\" in file:\n",
    "            survey = \"Gaia\"\n",
    "        elif \"LCO\" in file:\n",
    "            survey = \"LCO\"\n",
    "        elif \"ZTF\" in file:\n",
    "            survey = \"ZTF\"\n",
    "        elif \"ATLAS\" in file:\n",
    "            survey = \"ATLAS\"\n",
    "        \n",
    "        txt = file.split(\".\")\n",
    "        band = txt[0].split(\"_\")[-1]\n",
    "\n",
    "        dict = {\n",
    "            \"survey\": survey,\n",
    "            \"band\": band,\n",
    "            \"lc\": json.dumps(light_curve.tolist())\n",
    "        }\n",
    "        light_curves.append(dict)\n",
    "\n",
    "        # if event == \"AT2024kwu\":\n",
    "        #     print(event, dict[\"survey\"], dict[\"band\"])\n",
    "        #     print(dict[\"lc\"])\n",
    "        #     print(\" \")\n",
    "\n",
    "    dictionary[\"light_curves\"] = light_curves\n",
    "    js = json.dumps(dictionary)\n",
    "    analyst_jsons[event] = js"
   ]
  },
  {
   "cell_type": "code",
   "execution_count": 7,
   "id": "8c9d4dfd-00e2-4223-a634-08b6d052f424",
   "metadata": {},
   "outputs": [],
   "source": [
    "path_lightcurves = \"../../\"\n",
    "os.chdir(path_lightcurves)"
   ]
  },
  {
   "cell_type": "code",
   "execution_count": 8,
   "id": "a03fbbe5-7553-4384-8a52-9cc47209487b",
   "metadata": {},
   "outputs": [
    {
     "name": "stdout",
     "output_type": "stream",
     "text": [
      "/home/katarzyna/Documents/Microlensing_Fitting_Pipeline/Microlensing_Fitting_Pipeline\n"
     ]
    }
   ],
   "source": [
    "print(os.getcwd())"
   ]
  },
  {
   "cell_type": "code",
   "execution_count": 9,
   "id": "0022c654-6628-4351-80ee-62c5e7bf9750",
   "metadata": {},
   "outputs": [],
   "source": [
    "config = {\n",
    "            \"python_compiler\": \"python\",\n",
    "            \"group_processing_limit\": 4,\n",
    "            \"events_path\":\n",
    "                \"examples/result_example_1/\",\n",
    "            \"software_dir\":\n",
    "                \"MFPipeline/analyst/\",\n",
    "            \"log_stream\": False,\n",
    "            \"log_location\":\n",
    "                \"examples/result_example_1/\",\n",
    "            \"log_level\": \"debug\"\n",
    "            }"
   ]
  },
  {
   "cell_type": "code",
   "execution_count": 10,
   "id": "94297c2c-d1b7-488b-b900-57ba47d0bcfa",
   "metadata": {},
   "outputs": [],
   "source": [
    "controller = Controller(event_list, config_dict=config, analyst_dicts=analyst_jsons)"
   ]
  },
  {
   "cell_type": "code",
   "execution_count": 11,
   "id": "d21e8201-859b-43e5-bd5f-8e7483a77d77",
   "metadata": {
    "scrolled": true
   },
   "outputs": [
    {
     "name": "stdout",
     "output_type": "stream",
     "text": [
      "============================= Hello!!\n",
      "Unexpected expected str, bytes or os.PathLike object, not dict, <class 'TypeError'>\n",
      "Successfully ephemeris from JPL!\n",
      "check_event  : Everything looks fine...\n",
      "============================= Hello!!\n",
      "Unexpected expected str, bytes or os.PathLike object, not dict, <class 'TypeError'>\n",
      "pyLIMA found (and eliminate) some bad_data for telescope LCO_i, please check your_telescope.bad_data\n",
      "Successfully ephemeris from JPL!\n",
      "check_event  : Everything looks fine...\n",
      "Selecting ATLAS_o to estimate u0, tE and fs\n",
      "initial_guess  : Initial parameters guess SUCCESS\n",
      "Using guess:  [2460578.814209744, 0.038676978956713695, 25.802149743773043, 5109.749324723087, 3404.081863656372, 409.2641826771641, 5776.3945803029355]\n",
      "Trust Region Reflective fit SUCCESS\n",
      "best model:\n",
      "OrderedDict([('t0', 2460578.8810704793),\n",
      "             ('u0', 0.011762911830180045),\n",
      "             ('tE', 131.60994231362025),\n",
      "             ('fsource_ATLAS_o', 2195.647799232832),\n",
      "             ('fsource_Gaia_G', 3416.4778493601957),\n",
      "             ('fsource_LCO_g', 101.06691944647446),\n",
      "             ('fsource_LCO_i', 1719.1954858172935),\n",
      "             ('soft_l1', np.float64(1173.1491426464747))])\n",
      "Successfully ephemeris from JPL!\n",
      "check_event  : Everything looks fine...\n"
     ]
    },
    {
     "name": "stderr",
     "output_type": "stream",
     "text": [
      "/home/katarzyna/Documents/Microlensing_Fitting_Pipeline/.venv/lib/python3.11/site-packages/pyLIMA/toolbox/brightness_transformation.py:38: RuntimeWarning: divide by zero encountered in log10\n",
      "  mag = ZERO_POINT - 2.5 * np.log10(flux)\n",
      "/home/katarzyna/Documents/Microlensing_Fitting_Pipeline/.venv/lib/python3.11/site-packages/pyLIMA/toolbox/brightness_transformation.py:75: RuntimeWarning: divide by zero encountered in scalar divide\n",
      "  error_magnitude = np.abs(2.5 * error_flux / (flux * np.log(10)))\n"
     ]
    },
    {
     "name": "stdout",
     "output_type": "stream",
     "text": [
      "Selecting ATLAS_o to estimate u0, tE and fs\n",
      "initial_guess  : Initial parameters guess SUCCESS\n",
      "Using guess:  [2460578.814209744, 0.038676978956713695, 25.802149743773043, 9277.409986592782, 5145.5664786453435, 4082.911856792953, 3463.2522651818726, 525.7575103984384, 292.9366611422753, 8376.14377372839, 5261.620840947962]\n",
      "Trust Region Reflective fit SUCCESS\n",
      "best model:\n",
      "OrderedDict([('t0', 2460580.5582643016),\n",
      "             ('u0', 0.04187595376768103),\n",
      "             ('tE', 39.473193574820066),\n",
      "             ('fsource_ATLAS_o', 13304.80216102654),\n",
      "             ('ftotal_ATLAS_o', 7.06111467401606e-12),\n",
      "             ('fsource_Gaia_G', 8165.823713585905),\n",
      "             ('ftotal_Gaia_G', 3425.4874454510464),\n",
      "             ('fsource_LCO_g', 243.78671393531465),\n",
      "             ('ftotal_LCO_g', 287.3232069490134),\n",
      "             ('fsource_LCO_i', 4544.585998722052),\n",
      "             ('ftotal_LCO_i', 4935.214559296169),\n",
      "             ('soft_l1', np.float64(608.9671630346344))])\n",
      "Successfully ephemeris from JPL!\n",
      "check_event  : Everything looks fine...\n",
      "Parallax(Full) estimated for the telescope ATLAS_o: SUCCESS\n",
      "Parallax(Full) estimated for the telescope Gaia_G: SUCCESS\n",
      "Parallax(Full) estimated for the telescope LCO_g: SUCCESS\n",
      "Parallax(Full) estimated for the telescope LCO_i: SUCCESS\n"
     ]
    },
    {
     "name": "stderr",
     "output_type": "stream",
     "text": [
      "/home/katarzyna/Documents/Microlensing_Fitting_Pipeline/.venv/lib/python3.11/site-packages/pyLIMA/fits/TRF_fit.py:32: RuntimeWarning: divide by zero encountered in log10\n",
      "  scaling = 10**np.floor(np.log10(np.abs(self.guess)))+1\n",
      "/home/katarzyna/Documents/Microlensing_Fitting_Pipeline/.venv/lib/python3.11/site-packages/pyLIMA/toolbox/brightness_transformation.py:38: RuntimeWarning: divide by zero encountered in log10\n",
      "  mag = ZERO_POINT - 2.5 * np.log10(flux)\n",
      "/home/katarzyna/Documents/Microlensing_Fitting_Pipeline/.venv/lib/python3.11/site-packages/pyLIMA/toolbox/brightness_transformation.py:75: RuntimeWarning: divide by zero encountered in scalar divide\n",
      "  error_magnitude = np.abs(2.5 * error_flux / (flux * np.log(10)))\n"
     ]
    },
    {
     "name": "stdout",
     "output_type": "stream",
     "text": [
      "Selecting LCO_g to estimate u0, tE and fs\n",
      "initial_guess  : Initial parameters guess SUCCESS\n",
      "Using guess:  [2460353.224007667, 0.26614373593509955, 0.7591461373958737, 22663.98473762374, 36949.74514236022, 6887.224769466192, 9375.620069257058]\n",
      "Trust Region Reflective fit SUCCESS\n",
      "best model:\n",
      "OrderedDict([('t0', 2459692.0896666246),\n",
      "             ('u0', 1.9827126497403298),\n",
      "             ('tE', 3.5119567410892025),\n",
      "             ('fsource_LCO_r', 22614.394419281267),\n",
      "             ('fsource_LCO_i', 36427.00562574315),\n",
      "             ('fsource_LCO_g', 6594.470501484627),\n",
      "             ('fsource_Gaia_G', 9387.37920483587),\n",
      "             ('soft_l1', np.float64(6695.210155515248))])\n",
      "pyLIMA found (and eliminate) some bad_data for telescope LCO_i, please check your_telescope.bad_data\n",
      "Successfully ephemeris from JPL!\n",
      "check_event  : Everything looks fine...\n"
     ]
    },
    {
     "name": "stderr",
     "output_type": "stream",
     "text": [
      "/home/katarzyna/Documents/Microlensing_Fitting_Pipeline/Microlensing_Fitting_Pipeline/MFPipeline/fitting_support/pyLIMA/fit_pyLIMA.py:207: RuntimeWarning: invalid value encountered in sqrt\n",
      "  model_params[key + \"_error\"] = np.around(np.sqrt(model_fit.fit_results[\"covariance_matrix\"][i, i]), ndp)\n",
      "/home/katarzyna/Documents/Microlensing_Fitting_Pipeline/Microlensing_Fitting_Pipeline/MFPipeline/fitting_support/pyLIMA/fit_pyLIMA.py:215: RuntimeWarning: invalid value encountered in sqrt\n",
      "  np.sqrt(model_fit.fit_results[\"covariance_matrix\"][i, i]),\n",
      "/home/katarzyna/Documents/Microlensing_Fitting_Pipeline/.venv/lib/python3.11/site-packages/pyLIMA/fits/LM_fit.py:135: RuntimeWarning: covariance is not symmetric positive-semidefinite.\n",
      "  samples = np.random.multivariate_normal(self.fit_results['best_model'],\n"
     ]
    },
    {
     "name": "stdout",
     "output_type": "stream",
     "text": [
      "Selecting LCO_g to estimate u0, tE and fs\n",
      "initial_guess  : Initial parameters guess SUCCESS\n",
      "Using guess:  [2460353.224007667, 0.26614373593509955, 0.7591461373958737, 12219.070317999232, 22013.97718317248, 32091.027477323587, 35335.36394184441, 4341.348149094493, 6516.324174740756, 8530.411945015605, 9668.289394378662]\n",
      "Trust Region Reflective fit SUCCESS\n",
      "best model:\n",
      "OrderedDict([('t0', 2457151.5969695314),\n",
      "             ('u0', 1.9681987415456939),\n",
      "             ('tE', 4.706338081379128),\n",
      "             ('fsource_LCO_r', 7453.523778154628),\n",
      "             ('ftotal_LCO_r', 22615.74738505166),\n",
      "             ('fsource_LCO_i', 2552.5653956540164),\n",
      "             ('ftotal_LCO_i', 36428.1203056007),\n",
      "             ('fsource_LCO_g', 2740.094516540869),\n",
      "             ('ftotal_LCO_g', 6594.882101692459),\n",
      "             ('fsource_Gaia_G', 11602.069860243417),\n",
      "             ('ftotal_Gaia_G', 9391.89328869522),\n",
      "             ('soft_l1', np.float64(6711.679904851042))])\n",
      "pyLIMA found (and eliminate) some bad_data for telescope LCO_i, please check your_telescope.bad_data\n",
      "Successfully ephemeris from JPL!\n",
      "check_event  : Everything looks fine...\n",
      "Parallax(Full) estimated for the telescope LCO_r: SUCCESS\n",
      "Parallax(Full) estimated for the telescope LCO_i: SUCCESS\n",
      "Parallax(Full) estimated for the telescope LCO_g: SUCCESS\n",
      "Parallax(Full) estimated for the telescope Gaia_G: SUCCESS\n"
     ]
    },
    {
     "name": "stderr",
     "output_type": "stream",
     "text": [
      "/home/katarzyna/Documents/Microlensing_Fitting_Pipeline/.venv/lib/python3.11/site-packages/pyLIMA/fits/TRF_fit.py:32: RuntimeWarning: divide by zero encountered in log10\n",
      "  scaling = 10**np.floor(np.log10(np.abs(self.guess)))+1\n",
      "/home/katarzyna/Documents/Microlensing_Fitting_Pipeline/.venv/lib/python3.11/site-packages/erfa/core.py:133: ErfaWarning: ERFA function \"utctai\" yielded 50 of \"dubious year (Note 3)\"\n",
      "  warn(f'ERFA function \"{func_name}\" yielded {wmsg}', ErfaWarning)\n",
      "/home/katarzyna/Documents/Microlensing_Fitting_Pipeline/.venv/lib/python3.11/site-packages/erfa/core.py:133: ErfaWarning: ERFA function \"taiutc\" yielded 50 of \"dubious year (Note 4)\"\n",
      "  warn(f'ERFA function \"{func_name}\" yielded {wmsg}', ErfaWarning)\n",
      "/home/katarzyna/Documents/Microlensing_Fitting_Pipeline/.venv/lib/python3.11/site-packages/erfa/core.py:133: ErfaWarning: ERFA function \"utcut1\" yielded 50 of \"dubious year (Note 3)\"\n",
      "  warn(f'ERFA function \"{func_name}\" yielded {wmsg}', ErfaWarning)\n"
     ]
    },
    {
     "name": "stdout",
     "output_type": "stream",
     "text": [
      "Selecting ATLAS_o to estimate u0, tE and fs\n",
      "initial_guess  : Initial parameters guess SUCCESS\n",
      "Using guess:  [2460578.814209744, 0.038676978956713695, 25.802149743773043, 0.0, 0.0, 9277.409986592782, 5145.5664786453435, 4082.911856792953, 3463.2522651818726, 525.7575103984384, 292.9366611422753, 8376.14377372839, 5261.620840947962]\n",
      "Trust Region Reflective fit SUCCESS\n",
      "best model:\n",
      "OrderedDict([('t0', 2460580.497295721),\n",
      "             ('u0', 0.07455255300530446),\n",
      "             ('tE', 25.954776434081126),\n",
      "             ('piEN', 0.9716921976082544),\n",
      "             ('piEE', 1.9999999934720678),\n",
      "             ('fsource_ATLAS_o', 22024.603242069148),\n",
      "             ('ftotal_ATLAS_o', 4.5078770016754174e-33),\n",
      "             ('fsource_Gaia_G', 8165.823713585905),\n",
      "             ('ftotal_Gaia_G', 3422.8445615973355),\n",
      "             ('fsource_LCO_g', 453.4748466759255),\n",
      "             ('ftotal_LCO_g', 301.65282933117504),\n",
      "             ('fsource_LCO_i', 8446.612897193332),\n",
      "             ('ftotal_LCO_i', 4582.639021882595),\n",
      "             ('soft_l1', np.float64(582.9220769637377))])\n",
      "Parallax(Full) estimated for the telescope ATLAS_o: SUCCESS\n",
      "Successfully ephemeris from JPL!\n",
      "Parallax(Full) estimated for the telescope Gaia_G: SUCCESS\n"
     ]
    },
    {
     "name": "stderr",
     "output_type": "stream",
     "text": [
      "/home/katarzyna/Documents/Microlensing_Fitting_Pipeline/.venv/lib/python3.11/site-packages/pyLIMA/fits/LM_fit.py:135: RuntimeWarning: covariance is not symmetric positive-semidefinite.\n",
      "  samples = np.random.multivariate_normal(self.fit_results['best_model'],\n"
     ]
    },
    {
     "name": "stdout",
     "output_type": "stream",
     "text": [
      "Selecting LCO_g to estimate u0, tE and fs\n",
      "initial_guess  : Initial parameters guess SUCCESS\n",
      "Using guess:  [2460353.224007667, 0.26614373593509955, 0.7591461373958737, 0.0, 0.0, 12219.070317999232, 22013.97718317248, 32091.027477323587, 35335.36394184441, 4341.348149094493, 6516.324174740756, 8530.411945015605, 9668.289394378662]\n",
      "Trust Region Reflective fit SUCCESS\n",
      "best model:\n",
      "OrderedDict([('t0', 2459946.7245574207),\n",
      "             ('u0', 1.3604210658528357),\n",
      "             ('tE', 538.4432640868628),\n",
      "             ('piEN', -0.13207415633781275),\n",
      "             ('piEE', -0.03912464717510254),\n",
      "             ('fsource_LCO_r', 5387.406879756667),\n",
      "             ('ftotal_LCO_r', 6172.175248305811),\n",
      "             ('fsource_LCO_i', 8758.80701310293),\n",
      "             ('ftotal_LCO_i', 10783.5114427837),\n",
      "             ('fsource_LCO_g', 1601.1289886796494),\n",
      "             ('ftotal_LCO_g', 2182.718290780948),\n",
      "             ('fsource_Gaia_G', 3938.3335748612426),\n",
      "             ('ftotal_Gaia_G', 9234.619231646531),\n",
      "             ('soft_l1', np.float64(1046.2079885458961))])\n",
      "Parallax(Full) estimated for the telescope LCO_r: SUCCESS\n",
      "Successfully ephemeris from JPL!\n",
      "Parallax(Full) estimated for the telescope Gaia_G: SUCCESS\n"
     ]
    }
   ],
   "source": [
    "controller.launch_analysts()"
   ]
  },
  {
   "cell_type": "code",
   "execution_count": null,
   "id": "9f7f2339-38ef-454b-9a6b-41503c5356a6",
   "metadata": {},
   "outputs": [],
   "source": []
  }
 ],
 "metadata": {
  "kernelspec": {
   "display_name": "Python 3 (ipykernel)",
   "language": "python",
   "name": "python3"
  },
  "language_info": {
   "codemirror_mode": {
    "name": "ipython",
    "version": 3
   },
   "file_extension": ".py",
   "mimetype": "text/x-python",
   "name": "python",
   "nbconvert_exporter": "python",
   "pygments_lexer": "ipython3",
   "version": "3.11.10"
  }
 },
 "nbformat": 4,
 "nbformat_minor": 5
}
